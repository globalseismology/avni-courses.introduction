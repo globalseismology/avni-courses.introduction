{
 "cells": [
  {
   "cell_type": "markdown",
   "metadata": {},
   "source": [
    "# Acknowledgments\n",
    "\n",
    "* Funded by the [National Science Foundation](http://nsf.gov) and the\n",
    "  [Computational Infrastructure for Geodynamics](http://geodynamics.org).\n",
    "* A project like this one is a culmination of feedback and input from several\n",
    "  excellent [colleagues and\n",
    "  organizations](https://globalseismology.princeton.edu/about/people). We thank\n",
    "  members of the open source and Earth Science communities for their input and\n",
    "  non-Github contributions.\n",
    "* Computational resources maintained by Princeton University accessible through\n",
    "  the [AVNI website](http://avni.globalseismology.org). We thank the system\n",
    "  administrators for assistance.\n",
    "\n",
    "<img src=\"http://avni.globalseismology.org/stable/_static/logos/NSF.png\"\n",
    "width=\"100\"> &nbsp; &nbsp; &nbsp; &nbsp; <img\n",
    "src=\"http://avni.globalseismology.org/stable/_static/logos/CIG_logo.png\"\n",
    "width=\"200\"> &nbsp; &nbsp; &nbsp; &nbsp; <img\n",
    "src=\"http://avni.globalseismology.org/stable/_static/logos/PU-standard.png\"\n",
    "width=\"325\">\n",
    "\n"
   ]
  }
 ],
 "metadata": {
  "kernelspec": {
   "display_name": "Python 3 (ipykernel)",
   "language": "python",
   "name": "python3"
  },
  "language_info": {
   "codemirror_mode": {
    "name": "ipython",
    "version": 3
   },
   "file_extension": ".py",
   "mimetype": "text/x-python",
   "name": "python",
   "nbconvert_exporter": "python",
   "pygments_lexer": "ipython3",
   "version": "3.9.12"
  }
 },
 "nbformat": 4,
 "nbformat_minor": 4
}
