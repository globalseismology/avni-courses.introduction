{
 "cells": [
  {
   "cell_type": "markdown",
   "metadata": {
    "tags": []
   },
   "source": [
    "# Introduction to AVNI\n",
    "<br>\n",
    "\n",
    "[<img\n",
    "src=\"http://avni.globalseismology.org/stable/_static/logos/logo_avni_color_withname.png\"\n",
    "width=\"512\">](https://portal.globalseismology.org/courses/solid-earth-fundamentals)\n",
    "\n",
    "\n",
    "**Want to test-drive AVNI tutorials?** Check out our live examples on Hubzero [![Launch Hubzero](https://img.shields.io/badge/Launch-Hubzero-yellow?logo=hotelsdotcom&logoColor=white)](https://geodynamics.org/tools/avninotebooks)\n",
    "\n",
    "\n",
    "**Designed by [Raj Moulik](https://rajmoulik.com) // Maintained by [Global Seismology](https://globalseismology.org)**\n",
    "\n",
    "**Courtesy [AVNI](http://avni.globalseismology.org) software ecosystem // Powered by [Jupyter](https://jupyter.org)**  \n",
    "\n",
    "- *AVNI is an open-source Python package with APIs to handle intensive queries*\n",
    "- *Introduce HDF5 storage formats for planetary models and processed seismic data* \n",
    "- *Interactive web-based visualization tools for data and model exploration*\n",
    "- *Formulate and benchmark solvers for rapid data validation of models*\n",
    "\n",
    "This website hosts the interactive book, *Introduction to AVNI*, which contains executable Jupyter notebooks describing underlying methods and containing example use cases. This website is part of the software ecosystem called **A**nalysis and **V**isualization toolkit for pla**N**etary **I**nferences (or **AVNI**), which provides free web-based and backend code access to tools, techniques, models and data related to global geosciences.\n",
    "\n",
    "## Introduction\n",
    "\n",
    "Modeling the interior structure of terrestrial planets has become one of the most computationally-intensive, big-data problems in the physical sciences with demonstrated utility in assessing hazard, locating explosions and characterizing plate tectonics. Multi-disciplinary advancements have led to a proliferation of dynamical simulations and model snapshots from seismic tomography. Reconciling seismic models and data with simulations from geodynamics, mineral physics and geochemistry is crucial for robust thermo-chemical interpretations. Such cross-disciplinary initiatives have been impeded by discrepant spatial scales, observational or theoretical assumptions, and lack of data validation algorithms. We present methods and data formats that will facilitate rapid prototyping of multi-scale models by reconciling and assimilating features ranging from reservoir (0.1 - 10 km) to global scales (500 - 5000 km). \n",
    "\n",
    "Our approach involves three complementary aspects: \n",
    "1. **Code repositories** comprising modular libraries with model classes and scalable HDF5 formats for archival\n",
    "2. **API (Application Programming Interface)** calls for querying model and data evaluations with fast, benchmarked forward solvers\n",
    "3. **Web-based applets** for visualization and outlier analyses. \n",
    "\n",
    "Both (1) and (2) are utilized by (3) and can be accessed on the client side with Jupyter notebooks and command-line tools. AVNI tools help with identifying regions of scientific interest, validating new techniques, planning future instrumentation deployments, and testing hypotheses about the Earth's deep interior. An additional educational component provides training of undergraduates and school teachers in the analysis and visualization of planetary models, preparing them for a research and teaching career in the geosciences. \n",
    "\n",
    "**Interactive Code <i class=\"fa fa-rocket\" aria-hidden=\"true\"></i>**  \n",
    "\n",
    "This book's pages contain Python code that can be opened and run in a web browser without any prior installation or configuration. Click the launch button <i class=\"fa fa-rocket\" aria-hidden=\"true\"></i> in the top right corner of any page to open and play with the code on [Hubzero](https://geodynamics.org/tools/avninotebooks), a service that allows you to run Jupyter notebooks without any prior configuration or installation. See [How To Interact With This Book](How-To-Interact-With-This-Book.ipynb) for more information. [![Launch Hubzero](https://img.shields.io/badge/Launch-Hubzero-yellow?logo=hotelsdotcom&logoColor=white)](https://geodynamics.org/tools/avninotebooks)\n",
    "\n",
    "## Suggested Citation\n",
    "\n",
    "If you find any of these resources useful, kindly cite this course package. \n",
    "Please cite both the canonical journal article reference.\n",
    "        \n",
    "> Moulik, P. (2023), AVNI: Web-based Model Prototyping and Data Analysis Workflows for Planetary Inferences. *Geochemistry, Geophysics, Geosystems*, in prep.\n",
    "\n",
    "## License \n",
    "\n",
    "[![License: GPL\n",
    "v3](https://img.shields.io/badge/License-GPLv3-blue.svg)](LICENSE)\n",
    "\n",
    "This software is published under the GNU GPL v3 license - see the\n",
    "[LICENSE](LICENSE) file for details. Please write to\n",
    "**avni@globalseismology.org** or see our\n",
    "[FAQs](http://avni.globalseismology.org/stable/overview/faq.html) for additional\n",
    "clarifications. \n",
    "\n",
    "## Acknowledgements  \n",
    "\n",
    "A project like this one is a culmination of feedback and input from several excellent colleagues and organizations. Some of them are listed in the [Acknowledgements](Acknowledgements.ipynb). \n",
    "\n",
    "## Feedback \n",
    "\n",
    "This is an evolving document so please send [Raj Moulik](mailto:moulik@princeton.edu?cc=moulik@caa.columbia.edu) or the [AVNI Administrators](mailto:avni@globalseismology.org) any constructive feedback or suggestions. "
   ]
  }
 ],
 "metadata": {
  "kernelspec": {
   "display_name": "Python 3 (ipykernel)",
   "language": "python",
   "name": "python3"
  },
  "language_info": {
   "codemirror_mode": {
    "name": "ipython",
    "version": 3
   },
   "file_extension": ".py",
   "mimetype": "text/x-python",
   "name": "python",
   "nbconvert_exporter": "python",
   "pygments_lexer": "ipython3",
   "version": "3.9.12"
  }
 },
 "nbformat": 4,
 "nbformat_minor": 4
}
