{
 "cells": [
  {
   "cell_type": "markdown",
   "metadata": {
    "jp-MarkdownHeadingCollapsed": true,
    "tags": []
   },
   "source": [
    "# Introduction to AVNI\n",
    "<br>\n",
    "\n",
    "**Designed by [Raj Moulik](https://rajmoulik.com) // Maintained by [Global Seismology](https://globalseismology.org)**\n",
    "\n",
    "**Courtesy [AVNI](http://avni.globalseismology.org) software ecosystem // Powered by [Jupyter](https://jupyter.org)**  \n",
    "\n",
    "- *AVNI is an open-source Python package with APIs to handle intensive queries*\n",
    "- *Introduce HDF5 storage formats for planetary models and processed seismic data* \n",
    "- *Interactive web-based visualization tools for data and model exploration*\n",
    "- *Formulate and benchmark solvers for rapid data validation of models*\n",
    "\n",
    "This website hosts the interactive book, *Introduction to AVNI*, which contains executable Jupyter notebooks describing underlying methods and containing example use cases. This website is part of the software ecosystem called **A**nalysis and **V**isualization toolkit for pla**N**etary **I**nferences (or **AVNI**), which provides free web-based and backend code access to tools, techniques, models and data related to global solid Earth geosciences.\n",
    "\n",
    "<img src=\"images/logo/logo_avni_color.png\" alt=\"drawing\" width=\"30%\"/>\n",
    "\n",
    "**Introduction**  \n",
    "\n",
    "Modeling the interior structure of terrestrial planets has become one of the most computationally-intensive, big-data problems in the physical sciences with demonstrated utility in assessing hazard, locating explosions and characterizing plate tectonics. Multi-disciplinary advancements have led to a proliferation of dynamical simulations and model snapshots from seismic tomography. Reconciling seismic models and data with simulations from geodynamics, mineral physics and geochemistry is crucial for robust thermo-chemical interpretations. Such cross-disciplinary initiatives have been impeded by discrepant spatial scales, observational or theoretical assumptions, and lack of data validation algorithms. We present methods and data formats that will facilitate rapid prototyping of multi-scale models by reconciling and assimilating features ranging from reservoir (~0.1 - 10 km) to global scales (~500 - 5000 km). \n",
    "\n",
    "Our approach involves three complementary aspects: \n",
    "1. **Code repositories** comprising modular libraries with model classes and scalable HDF5 formats for archival\n",
    "2. **API (Application Programming Interface)** calls for querying model and data evaluations with fast, benchmarked forward solvers\n",
    "3. **Web-based applets** for visualization and outlier analyses. \n",
    "\n",
    "Both (1) and (2) are utilized by (3) and can be accessed on the client side with Jupyter notebooks and command-line tools. AVNI tools help with identifying regions of scientific interest, validating new techniques, planning future instrumentation deployments, and testing hypotheses about the Earth's deep interior. An additional educational component provides training of undergraduates and school teachers in the analysis and visualization of planetary models, preparing them for a research and teaching career in the geosciences. \n",
    "\n",
    "**Acknowledgements**  \n",
    "\n",
    "A project like this one is a culmination of feedback and input from several excellent colleagues and organizations. Some of them are listed in the {doc}`Acknowledgements <Acknowledgements>`. \n",
    "\n",
    "**Feedback**  \n",
    "\n",
    "This is an evolving document so please send [Raj Moulik](mailto:moulik@princeton.edu?cc=moulik@caa.columbia.edu) or the [AVNI Administrators](mailto:avni@globalseismology.org) any constructive feedback or suggestions. \n",
    "\n",
    "**Suggested Citation**\n",
    "\n",
    "> Moulik, P., *AVNI Course: Introduction*, Version 1.0 (2023), [https://portal.globalseismology.org/courses/avni-intro](https://portal.globalseismology.org/courses/avni-intro)"
   ]
  }
 ],
 "metadata": {
  "kernelspec": {
   "display_name": "Python 3",
   "language": "python",
   "name": "python3"
  },
  "language_info": {
   "codemirror_mode": {
    "name": "ipython",
    "version": 3
   },
   "file_extension": ".py",
   "mimetype": "text/x-python",
   "name": "python",
   "nbconvert_exporter": "python",
   "pygments_lexer": "ipython3",
   "version": "3.7.3"
  }
 },
 "nbformat": 4,
 "nbformat_minor": 4
}
